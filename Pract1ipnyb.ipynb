{
  "nbformat": 4,
  "nbformat_minor": 0,
  "metadata": {
    "colab": {
      "provenance": []
    },
    "kernelspec": {
      "name": "python3",
      "display_name": "Python 3"
    },
    "language_info": {
      "name": "python"
    }
  },
  "cells": [
    {
      "cell_type": "code",
      "source": [
        "#Se define la funcion con la variable cadena\n",
        "def verificador_de_parentesis (cadena):\n",
        "    \"\"\"\n",
        "    La funcion recibe una cadena para evaluar si los parentesis estan bien\n",
        "    escritos, mediante un diccionario, si el caracter es ) lo agrega a la lista pila,\n",
        "    despues busca en la entrada si se encuentra ( y busca si ) ya esta en la lista,\n",
        "    si es asi lo borra.\n",
        "    \"\"\"\n",
        "    #Se define un pila para que si se da un parentesis de apertura en \"cadena\", se añada a la pila, si nunca se da un parentesis de apertura entonces la pila estara vacia\n",
        "    pila = []\n",
        "    #El abecedario esta definido como diccionario para que cada parentesis de apertura, tenga definido su correspondiente paréntesis de cierre\n",
        "    abecedario = {')': '('}\n",
        "\n",
        "    #Se utiliza un ciclo \"for\" para recorrer cada caracter de la cadena y realizar la verificacion de los paréntesis\n",
        "    for caracter in cadena:\n",
        "        #abecedario.values() se usa para verificar en el diccionario si el caracter ingresado es un parentesis de apertura valido\n",
        "        if caracter in abecedario.values():\n",
        "            #Si el carecter ingresado es válido, se añade a la pila\n",
        "            pila.append(caracter)\n",
        "        #Verifica si este paréntesis de cierre está en las claves del diccionario, si lo está, verifica si coincide con el último paréntesis de apertura en la pila\n",
        "        elif caracter in abecedario.keys():\n",
        "            #Verifica si se encuentra un paréntesis de cierre sin un paréntesis de apertura correspondiente en la pila,\n",
        "            #o si el paréntesis de cierre actual no coincide con el paréntesis de apertura en la cima de la pila\n",
        "            if not pila or abecedario[caracter] != pila.pop():\n",
        "                return False\n",
        "        else:\n",
        "            # Si el caracter no es un paréntesis\n",
        "            return False\n",
        "\n",
        "    # Como la pila está vacia entonces los parentesis estan bien escritos\n",
        "    return not pila\n",
        "\n",
        "#Input para que el usuario ingrese los paréntesis\n",
        "#IMPORTANTE: Al momento de ingresar el texto en el input no presionar enter,\n",
        "#IMPORTANTE: shift o alguna clase de tecla especial, ni hacer clic, solo texto y presionar enter, ya que sino marcara error\n",
        "cadena = input(\"Ingrese una cadena de paréntesis \")\n",
        "\n",
        "#Condicional para que se imprima si los paréntesis están bien escritos o no\n",
        "if verificador_de_parentesis (cadena):\n",
        "    print(True)\n",
        "else:\n",
        "    print(False)\n",
        "    print(\"Los paréntesis están mal escritos o hay caracteres inválidos\")\n",
        "\n",
        "\n"
      ],
      "metadata": {
        "colab": {
          "base_uri": "https://localhost:8080/"
        },
        "id": "qsOjiThqRuh0",
        "outputId": "aee0c9ee-b138-4a25-9e9a-dd83e093d61a"
      },
      "execution_count": null,
      "outputs": [
        {
          "output_type": "stream",
          "name": "stdout",
          "text": [
            "Ingrese una cadena de paréntesis ()()\n",
            "True\n"
          ]
        }
      ]
    }
  ]
}